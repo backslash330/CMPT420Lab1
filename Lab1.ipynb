{
 "cells": [
  {
   "cell_type": "code",
   "execution_count": null,
   "metadata": {},
   "outputs": [],
   "source": [
    "# **** Lab 1 Shell - CMPT420 ****\n",
    "# Name: Nicholas Almeida\n",
    "# Student Number: 200285\n",
    "#\n",
    "#\n",
    "# Put your answers to each question in the empty code block(s) below it\n",
    "#\n",
    "# Q1: Code at least 10 (including at least one plot) commands from scratch from Ch. 1.2 of the textbook. \n",
    "# put answers in the blocks below"
   ]
  },
  {
   "cell_type": "code",
   "execution_count": 1,
   "metadata": {},
   "outputs": [
    {
     "data": {
      "text/plain": [
       "[  -2    1]\n",
       "[ 3/2 -1/2]"
      ]
     },
     "execution_count": 1,
     "metadata": {},
     "output_type": "execute_result"
    }
   ],
   "source": [
    "# compute the inverse of the matrix\n",
    "matrix([[1,2],[3,4]])^-1"
   ]
  },
  {
   "cell_type": "code",
   "execution_count": 2,
   "metadata": {},
   "outputs": [
    {
     "data": {
      "text/plain": [
       "2 * 5^-2 * 19^-1 * 149^-1 * 57107"
      ]
     },
     "execution_count": 2,
     "metadata": {},
     "output_type": "execute_result"
    }
   ],
   "source": [
    "# factor the following fraction\n",
    "factor(342642/212325)"
   ]
  },
  {
   "cell_type": "code",
   "execution_count": 3,
   "metadata": {},
   "outputs": [
    {
     "data": {
      "text/plain": [
       "3.14159265358979323846264338327950288419716939937510582097494459230781640628620899862803482"
      ]
     },
     "execution_count": 3,
     "metadata": {},
     "output_type": "execute_result"
    }
   ],
   "source": [
    "# compute pi to 300 bits of precision\n",
    "pi.n(300)"
   ]
  },
  {
   "cell_type": "code",
   "execution_count": 4,
   "metadata": {},
   "outputs": [
    {
     "data": {
      "text/plain": [
       "6689502913449127057588118054090372586752746333138029810295671352301633557244962989366874165271984981308157637893214090552534408589408121859898481114389650005964960521256960000000000000000000000000000"
      ]
     },
     "execution_count": 4,
     "metadata": {},
     "output_type": "execute_result"
    }
   ],
   "source": [
    "# give the factorial of 120\n",
    "factorial(120)"
   ]
  },
  {
   "cell_type": "code",
   "execution_count": 6,
   "metadata": {},
   "outputs": [
    {
     "data": {
      "text/plain": [
       "True"
      ]
     },
     "execution_count": 6,
     "metadata": {},
     "output_type": "execute_result"
    }
   ],
   "source": [
    "# check if the following number is prime\n",
    "is_prime(7)"
   ]
  },
  {
   "cell_type": "code",
   "execution_count": 7,
   "metadata": {},
   "outputs": [
    {
     "data": {
      "text/plain": [
       "125"
      ]
     },
     "execution_count": 7,
     "metadata": {},
     "output_type": "execute_result"
    }
   ],
   "source": [
    "# compute the power of 5 to the power of 3\n",
    "5**3"
   ]
  },
  {
   "cell_type": "code",
   "execution_count": 8,
   "metadata": {},
   "outputs": [
    {
     "data": {
      "text/plain": [
       "[57 24]\n",
       "[48 33]"
      ]
     },
     "execution_count": 8,
     "metadata": {},
     "output_type": "execute_result"
    }
   ],
   "source": [
    "# compute the square of a matrix \n",
    "matrix([[5,4],[8,1]])^2"
   ]
  },
  {
   "cell_type": "code",
   "execution_count": 9,
   "metadata": {},
   "outputs": [
    {
     "data": {
      "text/plain": [
       "2.71828182845904523536028747135266249775724709369995957496696762772407663035354759457138217852516642742746639193200305992"
      ]
     },
     "execution_count": 9,
     "metadata": {},
     "output_type": "execute_result"
    }
   ],
   "source": [
    "# calculate e to 400 bits of precision\n",
    "e.n(400)"
   ]
  },
  {
   "cell_type": "code",
   "execution_count": 23,
   "metadata": {},
   "outputs": [
    {
     "data": {
      "text/plain": [
       "3.1415926535897576"
      ]
     },
     "execution_count": 23,
     "metadata": {},
     "output_type": "execute_result"
    }
   ],
   "source": [
    "find_root(sin(x), 1,4)"
   ]
  },
  {
   "cell_type": "code",
   "execution_count": 24,
   "metadata": {},
   "outputs": [
    {
     "data": {
      "image/png": "[encoded data removed]",
      "text/plain": [
       "Graphics object consisting of 1 graphics primitive"
      ]
     },
     "metadata": {},
     "output_type": "display_data"
    }
   ],
   "source": [
    "show(plot(cos(x)+sin(x),x,0,6))"
   ]
  },
  {
   "cell_type": "code",
   "execution_count": null,
   "metadata": {},
   "outputs": [],
   "source": [
    "# Q2: Assign a variable f the function e^(2x). write a loop that computes and prints the first 5 derivatives of f. "
   ]
  },
  {
   "cell_type": "code",
   "execution_count": 1,
   "metadata": {},
   "outputs": [
    {
     "name": "stdout",
     "output_type": "stream",
     "text": [
      "e^(2*x)\n",
      "2*e^(2*x)\n",
      "4*e^(2*x)\n",
      "8*e^(2*x)\n",
      "16*e^(2*x)\n"
     ]
    }
   ],
   "source": [
    "# Assign a variable f the function e^(2x)\n",
    "f = e**(2*x)\n",
    "#write a loop that computes and prints the first 5 derivatives of f.\n",
    "for i in range(5):\n",
    "    print(diff(f,x,i))"
   ]
  },
  {
   "cell_type": "code",
   "execution_count": null,
   "metadata": {},
   "outputs": [],
   "source": [
    "# Q3: Make a function \\texttt{derivs} that takes three parameters\n",
    "# 1. function $f$ in variable $x$\n",
    "# 2.  an integer $n$\n",
    "# 3.  a real number $a$\n",
    "# and returns a list of the first $n$ derivatives of $f$ evaluated at $a$."
   ]
  },
  {
   "cell_type": "code",
   "execution_count": 73,
   "metadata": {},
   "outputs": [
    {
     "data": {
      "text/plain": [
       "[4, 4, 2]"
      ]
     },
     "execution_count": 73,
     "metadata": {},
     "output_type": "execute_result"
    }
   ],
   "source": [
    "# make a function called derivs that takes three parameters\n",
    "\n",
    "def derivs(f,n,a):\n",
    "    # initialize an empty list\n",
    "    derivs = []\n",
    "    # loop through the range of n\n",
    "    for i in range(n):\n",
    "        # append the derivative of f at a to the list\n",
    "        derivs.append(diff(f,x,i)(a))\n",
    "    # return the list\n",
    "    return derivs\n",
    "\n",
    "# Test the function\n",
    "f(x) = x^2\n",
    "derivs(f,3,2)"
   ]
  },
  {
   "cell_type": "code",
   "execution_count": 34,
   "metadata": {},
   "outputs": [],
   "source": [
    "# Q4: Make another function my_taylor that takes the same three parameters as derivs and returns the $n$th order Taylor polynomial. Check your answer with Sage’s built-in taylor function.\n"
   ]
  },
  {
   "cell_type": "code",
   "execution_count": 121,
   "metadata": {},
   "outputs": [
    {
     "name": "stdout",
     "output_type": "stream",
     "text": [
      "1/120*x^5 + 1/24*x^4 + 1/6*x^3 + 1/2*x^2 + x + 1\n",
      "1 +x^1 + 1/2x^2 + 1/6x^3 + 1/24x^4 + 1/120x^5\n"
     ]
    }
   ],
   "source": [
    "# create a function called my_taylor\n",
    "from math import factorial\n",
    "\n",
    "\n",
    "def my_taylor(f,n,a):\n",
    "    # initialize an empty list\n",
    "    my_taylor = \"1 +\"\n",
    "    # loop through the range of n\n",
    "    for i in range(1,n+1):\n",
    "        if i == 0:\n",
    "            if f(a) == 0:\n",
    "                continue\n",
    "            else:\n",
    "                my_taylor += str(f(a)) + \" + \"\n",
    "        else:\n",
    "            # append the value of the derivative of f at a to the list\n",
    "            if diff(f,x,i)(a) == 0:\n",
    "                continue\n",
    "            else:\n",
    "                fraction = diff(f,x,i)(a)/factorial(i)\n",
    "                if fraction == 1:\n",
    "                    my_taylor += \"x^\" + str(i) + \" + \"\n",
    "                else:\n",
    "                    my_taylor += str(fraction) + \"x^\" + str(i) + \" + \"\n",
    "\n",
    "    # remove the last + from the list\n",
    "    my_taylor = my_taylor[:-3]\n",
    "    # reverse the list\n",
    "    # return the list\n",
    "    return my_taylor\n",
    "f(x) = e^x\n",
    "print(f(x).taylor(x,0,5))\n",
    "print(my_taylor(f,5,0))\n"
   ]
  },
  {
   "cell_type": "code",
   "execution_count": 138,
   "metadata": {},
   "outputs": [
    {
     "name": "stdout",
     "output_type": "stream",
     "text": [
      "1.64869791666667\n",
      "1.64872127070013 1\n",
      "3.29744254140026\n",
      "1.64872127070013 1\n",
      "4.94616381210038\n",
      "1.64872127070013 2\n",
      "5.77052444745045\n",
      "1.64872127070013 6\n",
      "6.04531132590047\n",
      "1.64872127070013 24\n",
      "6.11400804551297\n",
      "6.11400804551297\n"
     ]
    }
   ],
   "source": [
    "# second answer for question 4\n",
    "\n",
    "def my_taylor(f,n,a):\n",
    "    my_taylor = f(a)\n",
    "    for i in range(n):\n",
    "        nth_deriv = diff(f,x,i)(a)\n",
    "        print (nth_deriv, factorial(i))\n",
    "        my_taylor += nth_deriv / factorial(i)\n",
    "        print(my_taylor)\n",
    "    return my_taylor\n",
    "\n",
    "var('x')\n",
    "f(x)=e^x\n",
    "T5(x)=(e^x).taylor(x, 0, 5)\n",
    "print (T5(0.5))\n",
    "print (my_taylor(f,5,0.5))"
   ]
  },
  {
   "cell_type": "code",
   "execution_count": null,
   "metadata": {},
   "outputs": [],
   "source": [
    "# Bonus: edit your my_taylor function to catch exceptions when the function is not differentiable enough at the input point."
   ]
  },
  {
   "cell_type": "code",
   "execution_count": null,
   "metadata": {},
   "outputs": [],
   "source": []
  }
 ],
 "metadata": {
  "kernelspec": {
   "display_name": "SageMath 9.5",
   "language": "sage",
   "name": "sagemath"
  },
  "language_info": {
   "codemirror_mode": {
    "name": "ipython",
    "version": 3
   },
   "file_extension": ".py",
   "mimetype": "text/x-python",
   "name": "python",
   "nbconvert_exporter": "python",
   "pygments_lexer": "ipython3",
   "version": "3.9.9"
  }
 },
 "nbformat": 4,
 "nbformat_minor": 4
}
